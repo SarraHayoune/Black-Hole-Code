{
 "cells": [
  {
   "cell_type": "code",
   "execution_count": 5,
   "metadata": {
    "collapsed": false
   },
   "outputs": [],
   "source": [
    "import numpy as np\n",
    "import pynbody\n",
    "import pynbody.plot as pp\n",
    "import pynbody.plot.sph\n",
    "import pynbody.filt as filt\n",
    "import pynbody.units as units\n",
    "import pynbody.analysis.profile as profile\n",
    "import sys, os, glob, pickle"
   ]
  },
  {
   "cell_type": "code",
   "execution_count": 6,
   "metadata": {
    "collapsed": false
   },
   "outputs": [
    {
     "ename": "IOError",
     "evalue": "File '-f': format not understood or does not exist",
     "output_type": "error",
     "traceback": [
      "\u001b[0;31m---------------------------------------------------------------------------\u001b[0m",
      "\u001b[0;31mIOError\u001b[0m                                   Traceback (most recent call last)",
      "\u001b[0;32m<ipython-input-6-78aaa1ba8a0d>\u001b[0m in \u001b[0;36m<module>\u001b[0;34m()\u001b[0m\n\u001b[1;32m      3\u001b[0m                         \u001b[0;31m#     they are made\u001b[0m\u001b[0;34m\u001b[0m\u001b[0;34m\u001b[0m\u001b[0m\n\u001b[1;32m      4\u001b[0m \u001b[0;34m\u001b[0m\u001b[0m\n\u001b[0;32m----> 5\u001b[0;31m \u001b[0ms\u001b[0m \u001b[0;34m=\u001b[0m \u001b[0mpynbody\u001b[0m\u001b[0;34m.\u001b[0m\u001b[0mload\u001b[0m\u001b[0;34m(\u001b[0m\u001b[0msimname\u001b[0m\u001b[0;34m)\u001b[0m \u001b[0;31m# load file into pynbody\u001b[0m\u001b[0;34m\u001b[0m\u001b[0m\n\u001b[0m\u001b[1;32m      6\u001b[0m \u001b[0mh\u001b[0m \u001b[0;34m=\u001b[0m \u001b[0ms\u001b[0m\u001b[0;34m.\u001b[0m\u001b[0mhalos\u001b[0m\u001b[0;34m(\u001b[0m\u001b[0;34m)\u001b[0m             \u001b[0;31m# find and load halos (using AHF if in path)\u001b[0m\u001b[0;34m\u001b[0m\u001b[0m\n\u001b[1;32m      7\u001b[0m \u001b[0mdiskf\u001b[0m \u001b[0;34m=\u001b[0m \u001b[0mfilt\u001b[0m\u001b[0;34m.\u001b[0m\u001b[0mDisc\u001b[0m\u001b[0;34m(\u001b[0m\u001b[0;34m'40 kpc'\u001b[0m\u001b[0;34m,\u001b[0m\u001b[0;34m'2 kpc'\u001b[0m\u001b[0;34m)\u001b[0m  \u001b[0;31m# filter for particles in disk\u001b[0m\u001b[0;34m\u001b[0m\u001b[0m\n",
      "\u001b[0;32m/Users/Owner/anaconda/envs/python2/lib/python2.7/site-packages/pynbody/snapshot/__init__.pyc\u001b[0m in \u001b[0;36mload\u001b[0;34m(filename, *args, **kwargs)\u001b[0m\n\u001b[1;32m   1948\u001b[0m \u001b[0;34m\u001b[0m\u001b[0m\n\u001b[1;32m   1949\u001b[0m     raise IOError(\n\u001b[0;32m-> 1950\u001b[0;31m         \"File %r: format not understood or does not exist\" % filename)\n\u001b[0m\u001b[1;32m   1951\u001b[0m \u001b[0;34m\u001b[0m\u001b[0m\n\u001b[1;32m   1952\u001b[0m \u001b[0;32mdef\u001b[0m \u001b[0mnew\u001b[0m\u001b[0;34m(\u001b[0m\u001b[0mn_particles\u001b[0m\u001b[0;34m=\u001b[0m\u001b[0;36m0\u001b[0m\u001b[0;34m,\u001b[0m \u001b[0morder\u001b[0m\u001b[0;34m=\u001b[0m\u001b[0mNone\u001b[0m\u001b[0;34m,\u001b[0m \u001b[0;34m**\u001b[0m\u001b[0mfamilies\u001b[0m\u001b[0;34m)\u001b[0m\u001b[0;34m:\u001b[0m\u001b[0;34m\u001b[0m\u001b[0m\n",
      "\u001b[0;31mIOError\u001b[0m: File '-f': format not understood or does not exist"
     ]
    }
   ],
   "source": [
    "simname = sys.argv[1]   # use first argument as simulation name to analyze\n",
    "pp.plt.ion()            # plot in interactive mode to show all plots as \n",
    "                        #     they are made\n",
    "\n",
    "s = pynbody.load(simname) # load file into pynbody\n",
    "h = s.halos()             # find and load halos (using AHF if in path)\n",
    "diskf = filt.Disc('40 kpc','2 kpc')  # filter for particles in disk\n",
    "notdiskf = filt.Not(filt.Disc('40 kpc','3 kpc')) # particles outside of disk\n",
    "i=1\n",
    "if (len(sys.argv) > 2):\n",
    "    # if there's a second argument, it can be a photogenic file\n",
    "    # and analysis will follow the halo that contains those particles\n",
    "    photiords = np.genfromtxt(sys.argv[2],dtype='i8')\n",
    "    frac = np.float(len(np.where(np.in1d(photiords,h[i]['iord']))[0]))/len(photiords)\n",
    "    print('i: %d frac: %.2f'%(i,frac))\n",
    "    while(((frac) < 0.5) & (i<100)): \n",
    "        i=i+1\n",
    "        frac = np.float(len(np.where(np.in1d(photiords,h[i]['iord']))[0]))/len(photiords)\n",
    "        print('i: %d frac: %.2f'%(i,frac))\n",
    "else:\n",
    "    # otherwise follow largest halo with at least 2 stars\n",
    "    while len(h[i].star) <2: i=i+1\n",
    "\n",
    "if (i==100): sys.exit()\n",
    "pynbody.analysis.angmom.faceon(h[i])  # align halo faceon\n",
    "s.physical_units()   # change to physical units"
   ]
  },
  {
   "cell_type": "code",
   "execution_count": 7,
   "metadata": {
    "collapsed": true
   },
   "outputs": [],
   "source": [
    "simname = sys.argv[1]"
   ]
  },
  {
   "cell_type": "code",
   "execution_count": 11,
   "metadata": {
    "collapsed": false
   },
   "outputs": [],
   "source": [
    "import sys\n"
   ]
  },
  {
   "cell_type": "code",
   "execution_count": 12,
   "metadata": {
    "collapsed": false
   },
   "outputs": [
    {
     "data": {
      "text/plain": [
       "'/Users/Owner/anaconda/envs/python2/lib/python2.7/site-packages/ipykernel/__main__.py'"
      ]
     },
     "execution_count": 12,
     "metadata": {},
     "output_type": "execute_result"
    }
   ],
   "source": [
    "sys.argv[0]"
   ]
  },
  {
   "cell_type": "code",
   "execution_count": 13,
   "metadata": {
    "collapsed": false
   },
   "outputs": [
    {
     "data": {
      "text/plain": [
       "3"
      ]
     },
     "execution_count": 13,
     "metadata": {},
     "output_type": "execute_result"
    }
   ],
   "source": [
    "len(sys.argv)"
   ]
  },
  {
   "cell_type": "code",
   "execution_count": 14,
   "metadata": {
    "collapsed": false
   },
   "outputs": [
    {
     "data": {
      "text/plain": [
       "['/Users/Owner/anaconda/envs/python2/lib/python2.7/site-packages/ipykernel/__main__.py',\n",
       " '-f',\n",
       " '/Users/Owner/Library/Jupyter/runtime/kernel-2a1ecec9-bbca-498d-b419-f01f9405afd7.json']"
      ]
     },
     "execution_count": 14,
     "metadata": {},
     "output_type": "execute_result"
    }
   ],
   "source": [
    "sys.argv"
   ]
  },
  {
   "cell_type": "code",
   "execution_count": null,
   "metadata": {
    "collapsed": true
   },
   "outputs": [],
   "source": []
  }
 ],
 "metadata": {
  "kernelspec": {
   "display_name": "Python 2",
   "language": "python",
   "name": "python2"
  },
  "language_info": {
   "codemirror_mode": {
    "name": "ipython",
    "version": 2
   },
   "file_extension": ".py",
   "mimetype": "text/x-python",
   "name": "python",
   "nbconvert_exporter": "python",
   "pygments_lexer": "ipython2",
   "version": "2.7.13"
  }
 },
 "nbformat": 4,
 "nbformat_minor": 0
}
