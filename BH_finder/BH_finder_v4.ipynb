{
 "cells": [
  {
   "cell_type": "code",
   "execution_count": 1,
   "metadata": {
    "collapsed": true
   },
   "outputs": [],
   "source": [
    "import pynbody\n",
    "import matplotlib.pylab as plt\n",
    "import numpy as np\n",
    "import pandas as pd\n",
    "%matplotlib inline\n",
    "pd.set_option('display.max_columns', None)\n",
    "pd.set_option('display.max_rows', None)"
   ]
  },
  {
   "cell_type": "code",
   "execution_count": 2,
   "metadata": {
    "collapsed": true
   },
   "outputs": [],
   "source": [
    "galaxy_masses=pd.DataFrame()\n",
    "BH_halos=pd.DataFrame()\n",
    "snap_id=0"
   ]
  },
  {
   "cell_type": "code",
   "execution_count": 3,
   "metadata": {},
   "outputs": [],
   "source": [
    "iords=pd.read_csv('csvdata/iords.csv',index_col='snap')\n",
    "masses=pd.read_csv('csvdata/ALL_galaxy_masses.csv',index_col='snap')"
   ]
  },
  {
   "cell_type": "code",
   "execution_count": 4,
   "metadata": {
    "collapsed": true
   },
   "outputs": [],
   "source": [
    "def loader(path):\n",
    "    '''returns snapshot and halo'''\n",
    "    snap=pynbody.load(path)\n",
    "    snap.physical_units()\n",
    "    h=snap.halos()\n",
    "    return snap,h\n",
    "\n",
    "def BH_finder(snap):\n",
    "    '''returns subsnap of black holes'''\n",
    "    return snap.star[pynbody.filt.BandPass('tform','-15 Gyr','0 Gyr')]\n",
    "\n",
    "def analysis(halo, view):\n",
    "    '''center snap on halo's center of mass (angmom gives errors if there aren't enough pixels)'''\n",
    "    if view==1:\n",
    "        pynbody.analysis.angmom.faceon(halo)\n",
    "    elif view==2:\n",
    "        pynbody.analysis.angmom.sideon(halo)\n",
    "    else:\n",
    "        pynbody.analysis.halo.center(halo)\n",
    "        \n",
    "def plot_BH_pos(h, BH, grpid, attribute, snapshot, cmap='Greys', w=100, save=False, view=0):\n",
    "    '''plots position of black holes. Send halo array(h), black hole array(BH), grpid, attribute, and snapshot you want to plot \n",
    "    Optional: width/preferred scope(w) (default=100), colormap(default='Greys'), save(default=False)'''\n",
    "    \n",
    "    pynbody.plot.image(h[grpid].s,qty=attribute,cmap=cmap, width=w, log=False)\n",
    "    plt.plot(np.array((BH[np.where(BH['amiga.grp']==grpid)]['pos'])).T[0],np.array((BH[np.where(BH['amiga.grp']==grpid)]['pos'])).T[1],'r+')\n",
    "    plt.xlim(-w/2,w/2)\n",
    "    plt.ylim(-w/2,w/2)\n",
    "    plt.title('%s_h%s_%s_w%s'%(snapshot, grpid, attribute, w))\n",
    "    \n",
    "    if save==True:\n",
    "        plt.savefig('plots/%s/h%s/h148_h%s_%s_w%s.png'%(snapshot, grpid, grpid, attribute, w))\n",
    "    plt.show()\n",
    "    \n",
    "def add_mass_columns(hgrpid, grpid, snap_id):\n",
    "    '''returns row with gas, stellar, and total masses for one halo tracked through time'''\n",
    "    df=pd.DataFrame([[hgrpid.g['mass'].sum(), hgrpid.s['mass'].sum(), hgrpid['mass'].sum()]], index=[snap_id], columns=['H[%d] Gas'%(grpid),'H[%d] Star'%(grpid),'H[%d] Total'%(grpid)])\n",
    "    df.units='Msol'\n",
    "    return df\n",
    "\n",
    "def mass_df(h, BHgrp, snap_id):\n",
    "    df=pd.DataFrame()\n",
    "    for i in BHgrp:\n",
    "        df=pd.concat([df, add_mass_columns(h[i], i, snap_id)], axis=1, join='outer')\n",
    "    \n",
    "    df.units='Msol'\n",
    "    return df\n",
    "\n",
    "def galaxy_df(snap_id_array,h,BHgrp):\n",
    "    galaxy_masses=pd.DataFrame()\n",
    "    for i in snap_id_array:\n",
    "        vars()['mass_%s'%(i)]=mass_df(h,BHgrp,i)\n",
    "        galaxy_masses=galaxy_masses.append(vars()['mass_%s'%(i)])\n",
    "\n",
    "    return galaxy_masses\n",
    "\n",
    "def plot_SFH(h, grpid,  snapshot, ls='dashed', c='k', save=True, mf=False):\n",
    "    '''plots SFH. Send halo array(h[grpid]), linestyle(ls=dashed), color(c=k) grpid, and snapshot you want to plot \n",
    "    Optional:save(default=True)'''\n",
    "    plt.clf()\n",
    "    pynbody.plot.sfh(h[grpid].s,linestyle=ls,color=c, massform=mf);\n",
    "    plt.title('%s_h[%s]_SFH'%(snapshot,grpid), y=1.14);\n",
    "    plt.savefig('plots/SFH/%s_h[%s]_SFH.png'%(snapshot, grpid));\n",
    "    "
   ]
  },
  {
   "cell_type": "code",
   "execution_count": 5,
   "metadata": {
    "collapsed": true
   },
   "outputs": [],
   "source": [
    "#array of last four digits for each snap\n",
    "snap_id_array=['0139','0225','0275','0640','0974','1024','1269','1280','1408','1740','2048','2088','2432','2688','2816','2944','3072','3195','3200','3328','3456','3584','3606','3712','3840','3968','4096']"
   ]
  },
  {
   "cell_type": "code",
   "execution_count": 6,
   "metadata": {},
   "outputs": [
    {
     "data": {
      "text/plain": [
       "'4096'"
      ]
     },
     "execution_count": 6,
     "metadata": {},
     "output_type": "execute_result"
    }
   ],
   "source": [
    "#snap id index (negative values start from end)\n",
    "snap_id=snap_id-1\n",
    "snap_id_array[snap_id]"
   ]
  },
  {
   "cell_type": "code",
   "execution_count": 7,
   "metadata": {
    "collapsed": true
   },
   "outputs": [],
   "source": [
    "#set path\n",
    "path='/data/scratch/jillian/h148/h148.cosmo50PLK.3072g3HbwK1BH.00%s/h148.cosmo50PLK.3072g3HbwK1BH.00%s'%(snap_id_array[snap_id],snap_id_array[snap_id])"
   ]
  },
  {
   "cell_type": "code",
   "execution_count": 8,
   "metadata": {},
   "outputs": [],
   "source": [
    "#returns snapshot and halos in physical units (takes a couple of minutes)\n",
    "snap,h=loader(path)"
   ]
  },
  {
   "cell_type": "code",
   "execution_count": null,
   "metadata": {},
   "outputs": [],
   "source": [
    "#pynbody.plot.sfh(h[0].s,linestyle='dashed',color='k', massform=False);"
   ]
  },
  {
   "cell_type": "code",
   "execution_count": null,
   "metadata": {},
   "outputs": [],
   "source": [
    "#pynbody.analysis.halo.center(h[0])\n",
    "#pynbody.analysis.angmom.sideon(h[0], cen=(0,0,0))"
   ]
  },
  {
   "cell_type": "code",
   "execution_count": null,
   "metadata": {},
   "outputs": [],
   "source": [
    "#print 'Total: %s'%(len(h[0])), 'Gas: %s'%(len(h[0].g)), 'Stars: %s'%(len(h[0].s)), 'DM: %s'%(len(h[0].d))"
   ]
  },
  {
   "cell_type": "code",
   "execution_count": null,
   "metadata": {},
   "outputs": [],
   "source": [
    "#pynbody.plot.image(h[0].g, width=100, cmap='Blues');"
   ]
  },
  {
   "cell_type": "code",
   "execution_count": 9,
   "metadata": {
    "collapsed": true
   },
   "outputs": [],
   "source": [
    "iords_list=iords.columns.tolist()"
   ]
  },
  {
   "cell_type": "code",
   "execution_count": 10,
   "metadata": {
    "collapsed": true
   },
   "outputs": [],
   "source": [
    "for i in iords_list:\n",
    "    ind=0\n",
    "    vars()['iord_%s'%(i)]=pd.DataFrame(columns=['gas', 'star', 'total'])\n",
    "    iords_temp=iords[i].dropna()\n",
    "    vars()['iord_%s'%(i)]['halo']=iords[i]\n",
    "    for j in iords_temp.index:\n",
    "        if pd.notnull(iords.at[j,i]):\n",
    "            temp=[masses.at[j,'H[%s] Gas'%(int(iords.at[j,i]))],masses.at[j,'H[%s] Star'%(int(iords.at[j,i]))],masses.at[j,'H[%s] Total'%(int(iords.at[j,i]))]]\n",
    "        if (pd.notnull(temp)).any():\n",
    "            vars()['iord_%s'%(i)].loc[int(iords_temp.index[ind]),['gas','star','total']]=temp\n",
    "        else: continue\n",
    "        ind=ind+1\n",
    "        vars()['iord_%s'%(i)]=vars()['iord_%s'%(i)].fillna(0)\n",
    "        vars()['iord_%s'%(i)].to_csv('iord_%s.csv'%(i))"
   ]
  },
  {
   "cell_type": "code",
   "execution_count": 71,
   "metadata": {
    "collapsed": true
   },
   "outputs": [],
   "source": [
    "labels=[snap_id_array[0], snap_id_array[6],snap_id_array[13],snap_id_array[20],snap_id_array[26]]\n",
    "n=0"
   ]
  },
  {
   "cell_type": "code",
   "execution_count": 88,
   "metadata": {},
   "outputs": [
    {
     "ename": "IndexError",
     "evalue": "list index out of range",
     "output_type": "error",
     "traceback": [
      "\u001b[0;31m---------------------------------------------------------------------------\u001b[0m",
      "\u001b[0;31mIndexError\u001b[0m                                Traceback (most recent call last)",
      "\u001b[0;32m<ipython-input-88-d4d555c0265b>\u001b[0m in \u001b[0;36m<module>\u001b[0;34m()\u001b[0m\n\u001b[0;32m----> 1\u001b[0;31m \u001b[0mx\u001b[0m\u001b[0;34m=\u001b[0m\u001b[0miords_list\u001b[0m\u001b[0;34m[\u001b[0m\u001b[0mn\u001b[0m\u001b[0;34m]\u001b[0m\u001b[0;34m\u001b[0m\u001b[0m\n\u001b[0m\u001b[1;32m      2\u001b[0m \u001b[0mplt\u001b[0m\u001b[0;34m.\u001b[0m\u001b[0mhist\u001b[0m\u001b[0;34m(\u001b[0m\u001b[0mrange\u001b[0m\u001b[0;34m(\u001b[0m\u001b[0;36m0\u001b[0m\u001b[0;34m,\u001b[0m\u001b[0;36m27\u001b[0m\u001b[0;34m)\u001b[0m\u001b[0;34m,\u001b[0m \u001b[0mweights\u001b[0m\u001b[0;34m=\u001b[0m\u001b[0mvars\u001b[0m\u001b[0;34m(\u001b[0m\u001b[0;34m)\u001b[0m\u001b[0;34m[\u001b[0m\u001b[0;34m'iord_%s'\u001b[0m\u001b[0;34m%\u001b[0m\u001b[0;34m(\u001b[0m\u001b[0mx\u001b[0m\u001b[0;34m)\u001b[0m\u001b[0;34m]\u001b[0m\u001b[0;34m[\u001b[0m\u001b[0;34m'total'\u001b[0m\u001b[0;34m]\u001b[0m\u001b[0;34m,\u001b[0m \u001b[0mbins\u001b[0m\u001b[0;34m=\u001b[0m\u001b[0mlen\u001b[0m\u001b[0;34m(\u001b[0m\u001b[0msnap_id_array\u001b[0m\u001b[0;34m)\u001b[0m\u001b[0;34m,\u001b[0m\u001b[0mwidth\u001b[0m\u001b[0;34m=\u001b[0m\u001b[0;36m.85\u001b[0m\u001b[0;34m,\u001b[0m \u001b[0malpha\u001b[0m\u001b[0;34m=\u001b[0m\u001b[0;36m.3\u001b[0m\u001b[0;34m,\u001b[0m \u001b[0mhisttype\u001b[0m\u001b[0;34m=\u001b[0m\u001b[0;34m'bar'\u001b[0m\u001b[0;34m,\u001b[0m \u001b[0mlabel\u001b[0m\u001b[0;34m=\u001b[0m\u001b[0;34m'Total'\u001b[0m\u001b[0;34m,\u001b[0m \u001b[0mcolor\u001b[0m\u001b[0;34m=\u001b[0m\u001b[0;34m'#666666'\u001b[0m\u001b[0;34m,\u001b[0m\u001b[0mrwidth\u001b[0m\u001b[0;34m=\u001b[0m\u001b[0;36m1\u001b[0m\u001b[0;34m,\u001b[0m \u001b[0malign\u001b[0m\u001b[0;34m=\u001b[0m\u001b[0;34m'mid'\u001b[0m\u001b[0;34m)\u001b[0m\u001b[0;34m\u001b[0m\u001b[0m\n\u001b[1;32m      3\u001b[0m \u001b[0mplt\u001b[0m\u001b[0;34m.\u001b[0m\u001b[0mhist\u001b[0m\u001b[0;34m(\u001b[0m\u001b[0;34m[\u001b[0m\u001b[0mrange\u001b[0m\u001b[0;34m(\u001b[0m\u001b[0;36m0\u001b[0m\u001b[0;34m,\u001b[0m\u001b[0;36m27\u001b[0m\u001b[0;34m)\u001b[0m\u001b[0;34m,\u001b[0m\u001b[0mrange\u001b[0m\u001b[0;34m(\u001b[0m\u001b[0;36m0\u001b[0m\u001b[0;34m,\u001b[0m\u001b[0;36m27\u001b[0m\u001b[0;34m)\u001b[0m\u001b[0;34m]\u001b[0m\u001b[0;34m,\u001b[0m \u001b[0mweights\u001b[0m\u001b[0;34m=\u001b[0m\u001b[0;34m[\u001b[0m\u001b[0mvars\u001b[0m\u001b[0;34m(\u001b[0m\u001b[0;34m)\u001b[0m\u001b[0;34m[\u001b[0m\u001b[0;34m'iord_%s'\u001b[0m\u001b[0;34m%\u001b[0m\u001b[0;34m(\u001b[0m\u001b[0mx\u001b[0m\u001b[0;34m)\u001b[0m\u001b[0;34m]\u001b[0m\u001b[0;34m[\u001b[0m\u001b[0;34m'gas'\u001b[0m\u001b[0;34m]\u001b[0m\u001b[0;34m,\u001b[0m\u001b[0mvars\u001b[0m\u001b[0;34m(\u001b[0m\u001b[0;34m)\u001b[0m\u001b[0;34m[\u001b[0m\u001b[0;34m'iord_%s'\u001b[0m\u001b[0;34m%\u001b[0m\u001b[0;34m(\u001b[0m\u001b[0mx\u001b[0m\u001b[0;34m)\u001b[0m\u001b[0;34m]\u001b[0m\u001b[0;34m[\u001b[0m\u001b[0;34m'star'\u001b[0m\u001b[0;34m]\u001b[0m\u001b[0;34m]\u001b[0m\u001b[0;34m,\u001b[0m\u001b[0mbins\u001b[0m\u001b[0;34m=\u001b[0m\u001b[0mlen\u001b[0m\u001b[0;34m(\u001b[0m\u001b[0msnap_id_array\u001b[0m\u001b[0;34m)\u001b[0m\u001b[0;34m,\u001b[0m\u001b[0mwidth\u001b[0m\u001b[0;34m=\u001b[0m\u001b[0;36m.85\u001b[0m\u001b[0;34m,\u001b[0m \u001b[0malpha\u001b[0m\u001b[0;34m=\u001b[0m\u001b[0;36m1\u001b[0m\u001b[0;34m,\u001b[0m \u001b[0mhisttype\u001b[0m\u001b[0;34m=\u001b[0m\u001b[0;34m'bar'\u001b[0m\u001b[0;34m,\u001b[0m \u001b[0mstacked\u001b[0m\u001b[0;34m=\u001b[0m\u001b[0mTrue\u001b[0m\u001b[0;34m,\u001b[0m \u001b[0mlabel\u001b[0m\u001b[0;34m=\u001b[0m\u001b[0;34m[\u001b[0m\u001b[0;34m'Gas'\u001b[0m\u001b[0;34m,\u001b[0m\u001b[0;34m'Stars'\u001b[0m\u001b[0;34m]\u001b[0m\u001b[0;34m,\u001b[0m\u001b[0mfill\u001b[0m\u001b[0;34m=\u001b[0m\u001b[0mTrue\u001b[0m\u001b[0;34m,\u001b[0m \u001b[0mcolor\u001b[0m\u001b[0;34m=\u001b[0m\u001b[0;34m[\u001b[0m\u001b[0;34m'#44AA99'\u001b[0m\u001b[0;34m,\u001b[0m\u001b[0;34m'#88CCEE'\u001b[0m\u001b[0;34m]\u001b[0m\u001b[0;34m,\u001b[0m\u001b[0mrwidth\u001b[0m\u001b[0;34m=\u001b[0m\u001b[0;36m1\u001b[0m\u001b[0;34m,\u001b[0m\u001b[0malign\u001b[0m\u001b[0;34m=\u001b[0m\u001b[0;34m'mid'\u001b[0m\u001b[0;34m)\u001b[0m\u001b[0;34m\u001b[0m\u001b[0m\n\u001b[1;32m      4\u001b[0m \u001b[0;31m#plt.hist(range(1,28), weights=vars()['iord_%s'%(x)]['star'], bins=len(snap_id_array),width=.9, alpha=1, histtype='barstacked', label='Stars',fill=True, color='gold',rwidth=0.5)\u001b[0m\u001b[0;34m\u001b[0m\u001b[0;34m\u001b[0m\u001b[0m\n\u001b[1;32m      5\u001b[0m \u001b[0mplt\u001b[0m\u001b[0;34m.\u001b[0m\u001b[0mtitle\u001b[0m\u001b[0;34m(\u001b[0m\u001b[0;34m'Masses of Halo Containing iord %s'\u001b[0m\u001b[0;34m%\u001b[0m\u001b[0;34m(\u001b[0m\u001b[0mx\u001b[0m\u001b[0;34m)\u001b[0m\u001b[0;34m)\u001b[0m\u001b[0;34m;\u001b[0m\u001b[0;34m\u001b[0m\u001b[0m\n",
      "\u001b[0;31mIndexError\u001b[0m: list index out of range"
     ]
    }
   ],
   "source": [
    "x=iords_list[n]\n",
    "plt.hist(range(0,27), weights=vars()['iord_%s'%(x)]['total'], bins=len(snap_id_array),width=.85, alpha=.3, histtype='bar', label='Total', color='#666666',rwidth=1, align='mid')\n",
    "plt.hist([range(0,27),range(0,27)], weights=[vars()['iord_%s'%(x)]['gas'],vars()['iord_%s'%(x)]['star']],bins=len(snap_id_array),width=.85, alpha=1, histtype='bar', stacked=True, label=['Gas','Stars'],fill=True, color=['#44AA99','#88CCEE'],rwidth=1,align='mid')\n",
    "#plt.hist(range(1,28), weights=vars()['iord_%s'%(x)]['star'], bins=len(snap_id_array),width=.9, alpha=1, histtype='barstacked', label='Stars',fill=True, color='gold',rwidth=0.5)\n",
    "plt.title('Masses of Halo Containing iord %s'%(x));\n",
    "plt.xlabel('Snap_id', fontsize='large');\n",
    "plt.ylabel('Mass [M$_\\odot$]', fontsize='large');\n",
    "plt.xlim(-.5,26.5)\n",
    "#plt.ylim(0,vars()['iord_%s'%(x)]['gas'].max()+10000000000)\n",
    "plt.xticks([0.5,6.1,13,19.7,25.4],labels);\n",
    "plt.legend()\n",
    "plt.yscale('log')\n",
    "#plt.savefig('plots/galaxy_masses/logscale_iord_%s_masses.png'%(x))\n",
    "n+=1"
   ]
  },
  {
   "cell_type": "code",
   "execution_count": null,
   "metadata": {
    "collapsed": true
   },
   "outputs": [],
   "source": [
    "path_higher_z='/data/scratch/jillian/h148/h148.cosmo50PLK.3072g3HbwK1BH.00%s/h148.cosmo50PLK.3072g3HbwK1BH.00%s'%(snap_id_array[snap_id-1],snap_id_array[snap_id-1])"
   ]
  },
  {
   "cell_type": "code",
   "execution_count": null,
   "metadata": {},
   "outputs": [],
   "source": [
    "snap"
   ]
  },
  {
   "cell_type": "code",
   "execution_count": 69,
   "metadata": {},
   "outputs": [
    {
     "data": {
      "text/html": [
       "<div>\n",
       "<style>\n",
       "    .dataframe thead tr:only-child th {\n",
       "        text-align: right;\n",
       "    }\n",
       "\n",
       "    .dataframe thead th {\n",
       "        text-align: left;\n",
       "    }\n",
       "\n",
       "    .dataframe tbody tr th {\n",
       "        vertical-align: top;\n",
       "    }\n",
       "</style>\n",
       "<table border=\"1\" class=\"dataframe\">\n",
       "  <thead>\n",
       "    <tr style=\"text-align: right;\">\n",
       "      <th></th>\n",
       "      <th>gas</th>\n",
       "      <th>star</th>\n",
       "      <th>total</th>\n",
       "      <th>halo</th>\n",
       "    </tr>\n",
       "    <tr>\n",
       "      <th>snap</th>\n",
       "      <th></th>\n",
       "      <th></th>\n",
       "      <th></th>\n",
       "      <th></th>\n",
       "    </tr>\n",
       "  </thead>\n",
       "  <tbody>\n",
       "    <tr>\n",
       "      <th>139</th>\n",
       "      <td>5.602900e+07</td>\n",
       "      <td>1.421747e+05</td>\n",
       "      <td>3.860902e+08</td>\n",
       "      <td>26</td>\n",
       "    </tr>\n",
       "    <tr>\n",
       "      <th>225</th>\n",
       "      <td>1.097535e+08</td>\n",
       "      <td>6.998123e+05</td>\n",
       "      <td>8.322149e+08</td>\n",
       "      <td>45</td>\n",
       "    </tr>\n",
       "    <tr>\n",
       "      <th>275</th>\n",
       "      <td>1.520925e+08</td>\n",
       "      <td>1.106535e+06</td>\n",
       "      <td>1.067258e+09</td>\n",
       "      <td>57</td>\n",
       "    </tr>\n",
       "    <tr>\n",
       "      <th>640</th>\n",
       "      <td>1.393357e+10</td>\n",
       "      <td>1.357321e+09</td>\n",
       "      <td>1.322043e+11</td>\n",
       "      <td>1</td>\n",
       "    </tr>\n",
       "    <tr>\n",
       "      <th>974</th>\n",
       "      <td>4.308672e+10</td>\n",
       "      <td>9.691792e+09</td>\n",
       "      <td>3.786796e+11</td>\n",
       "      <td>1</td>\n",
       "    </tr>\n",
       "    <tr>\n",
       "      <th>1024</th>\n",
       "      <td>4.677795e+10</td>\n",
       "      <td>1.181563e+10</td>\n",
       "      <td>4.162733e+11</td>\n",
       "      <td>1</td>\n",
       "    </tr>\n",
       "    <tr>\n",
       "      <th>1269</th>\n",
       "      <td>7.729830e+10</td>\n",
       "      <td>3.095780e+10</td>\n",
       "      <td>7.502674e+11</td>\n",
       "      <td>1</td>\n",
       "    </tr>\n",
       "    <tr>\n",
       "      <th>1280</th>\n",
       "      <td>7.945881e+10</td>\n",
       "      <td>3.191686e+10</td>\n",
       "      <td>7.691464e+11</td>\n",
       "      <td>1</td>\n",
       "    </tr>\n",
       "    <tr>\n",
       "      <th>1408</th>\n",
       "      <td>9.830424e+10</td>\n",
       "      <td>4.489980e+10</td>\n",
       "      <td>9.709940e+11</td>\n",
       "      <td>1</td>\n",
       "    </tr>\n",
       "    <tr>\n",
       "      <th>1740</th>\n",
       "      <td>1.091595e+11</td>\n",
       "      <td>6.966514e+10</td>\n",
       "      <td>1.056175e+12</td>\n",
       "      <td>1</td>\n",
       "    </tr>\n",
       "    <tr>\n",
       "      <th>2048</th>\n",
       "      <td>1.212460e+11</td>\n",
       "      <td>8.804176e+10</td>\n",
       "      <td>1.160162e+12</td>\n",
       "      <td>1</td>\n",
       "    </tr>\n",
       "    <tr>\n",
       "      <th>2088</th>\n",
       "      <td>1.225612e+11</td>\n",
       "      <td>9.010784e+10</td>\n",
       "      <td>1.176266e+12</td>\n",
       "      <td>1</td>\n",
       "    </tr>\n",
       "    <tr>\n",
       "      <th>2432</th>\n",
       "      <td>1.390668e+11</td>\n",
       "      <td>1.083614e+11</td>\n",
       "      <td>1.393603e+12</td>\n",
       "      <td>1</td>\n",
       "    </tr>\n",
       "    <tr>\n",
       "      <th>2688</th>\n",
       "      <td>1.492292e+11</td>\n",
       "      <td>1.224220e+11</td>\n",
       "      <td>1.602141e+12</td>\n",
       "      <td>1</td>\n",
       "    </tr>\n",
       "    <tr>\n",
       "      <th>2816</th>\n",
       "      <td>1.538471e+11</td>\n",
       "      <td>1.284434e+11</td>\n",
       "      <td>1.683620e+12</td>\n",
       "      <td>1</td>\n",
       "    </tr>\n",
       "    <tr>\n",
       "      <th>2944</th>\n",
       "      <td>1.563727e+11</td>\n",
       "      <td>1.340055e+11</td>\n",
       "      <td>1.725327e+12</td>\n",
       "      <td>1</td>\n",
       "    </tr>\n",
       "    <tr>\n",
       "      <th>3072</th>\n",
       "      <td>1.591491e+11</td>\n",
       "      <td>1.503286e+11</td>\n",
       "      <td>1.810750e+12</td>\n",
       "      <td>1</td>\n",
       "    </tr>\n",
       "    <tr>\n",
       "      <th>3195</th>\n",
       "      <td>1.588927e+11</td>\n",
       "      <td>1.555758e+11</td>\n",
       "      <td>1.835890e+12</td>\n",
       "      <td>1</td>\n",
       "    </tr>\n",
       "    <tr>\n",
       "      <th>3200</th>\n",
       "      <td>1.589029e+11</td>\n",
       "      <td>1.555797e+11</td>\n",
       "      <td>1.836869e+12</td>\n",
       "      <td>1</td>\n",
       "    </tr>\n",
       "    <tr>\n",
       "      <th>3328</th>\n",
       "      <td>1.602556e+11</td>\n",
       "      <td>1.626893e+11</td>\n",
       "      <td>1.878717e+12</td>\n",
       "      <td>1</td>\n",
       "    </tr>\n",
       "    <tr>\n",
       "      <th>3456</th>\n",
       "      <td>1.626627e+11</td>\n",
       "      <td>1.673587e+11</td>\n",
       "      <td>1.929705e+12</td>\n",
       "      <td>1</td>\n",
       "    </tr>\n",
       "    <tr>\n",
       "      <th>3584</th>\n",
       "      <td>1.657502e+11</td>\n",
       "      <td>1.717089e+11</td>\n",
       "      <td>1.980980e+12</td>\n",
       "      <td>1</td>\n",
       "    </tr>\n",
       "    <tr>\n",
       "      <th>3606</th>\n",
       "      <td>1.663493e+11</td>\n",
       "      <td>1.723392e+11</td>\n",
       "      <td>1.988829e+12</td>\n",
       "      <td>1</td>\n",
       "    </tr>\n",
       "    <tr>\n",
       "      <th>3712</th>\n",
       "      <td>1.683623e+11</td>\n",
       "      <td>1.753004e+11</td>\n",
       "      <td>2.016081e+12</td>\n",
       "      <td>1</td>\n",
       "    </tr>\n",
       "    <tr>\n",
       "      <th>3840</th>\n",
       "      <td>1.694597e+11</td>\n",
       "      <td>1.791855e+11</td>\n",
       "      <td>2.051519e+12</td>\n",
       "      <td>1</td>\n",
       "    </tr>\n",
       "    <tr>\n",
       "      <th>3968</th>\n",
       "      <td>1.692308e+11</td>\n",
       "      <td>1.836051e+11</td>\n",
       "      <td>2.086326e+12</td>\n",
       "      <td>1</td>\n",
       "    </tr>\n",
       "    <tr>\n",
       "      <th>4096</th>\n",
       "      <td>1.674600e+11</td>\n",
       "      <td>1.882703e+11</td>\n",
       "      <td>2.109123e+12</td>\n",
       "      <td>1</td>\n",
       "    </tr>\n",
       "  </tbody>\n",
       "</table>\n",
       "</div>"
      ],
      "text/plain": [
       "               gas          star         total  halo\n",
       "snap                                                \n",
       "139   5.602900e+07  1.421747e+05  3.860902e+08    26\n",
       "225   1.097535e+08  6.998123e+05  8.322149e+08    45\n",
       "275   1.520925e+08  1.106535e+06  1.067258e+09    57\n",
       "640   1.393357e+10  1.357321e+09  1.322043e+11     1\n",
       "974   4.308672e+10  9.691792e+09  3.786796e+11     1\n",
       "1024  4.677795e+10  1.181563e+10  4.162733e+11     1\n",
       "1269  7.729830e+10  3.095780e+10  7.502674e+11     1\n",
       "1280  7.945881e+10  3.191686e+10  7.691464e+11     1\n",
       "1408  9.830424e+10  4.489980e+10  9.709940e+11     1\n",
       "1740  1.091595e+11  6.966514e+10  1.056175e+12     1\n",
       "2048  1.212460e+11  8.804176e+10  1.160162e+12     1\n",
       "2088  1.225612e+11  9.010784e+10  1.176266e+12     1\n",
       "2432  1.390668e+11  1.083614e+11  1.393603e+12     1\n",
       "2688  1.492292e+11  1.224220e+11  1.602141e+12     1\n",
       "2816  1.538471e+11  1.284434e+11  1.683620e+12     1\n",
       "2944  1.563727e+11  1.340055e+11  1.725327e+12     1\n",
       "3072  1.591491e+11  1.503286e+11  1.810750e+12     1\n",
       "3195  1.588927e+11  1.555758e+11  1.835890e+12     1\n",
       "3200  1.589029e+11  1.555797e+11  1.836869e+12     1\n",
       "3328  1.602556e+11  1.626893e+11  1.878717e+12     1\n",
       "3456  1.626627e+11  1.673587e+11  1.929705e+12     1\n",
       "3584  1.657502e+11  1.717089e+11  1.980980e+12     1\n",
       "3606  1.663493e+11  1.723392e+11  1.988829e+12     1\n",
       "3712  1.683623e+11  1.753004e+11  2.016081e+12     1\n",
       "3840  1.694597e+11  1.791855e+11  2.051519e+12     1\n",
       "3968  1.692308e+11  1.836051e+11  2.086326e+12     1\n",
       "4096  1.674600e+11  1.882703e+11  2.109123e+12     1"
      ]
     },
     "execution_count": 69,
     "metadata": {},
     "output_type": "execute_result"
    }
   ],
   "source": [
    "iord_1018\n"
   ]
  },
  {
   "cell_type": "code",
   "execution_count": null,
   "metadata": {},
   "outputs": [],
   "source": [
    "iord_101867516"
   ]
  },
  {
   "cell_type": "code",
   "execution_count": null,
   "metadata": {},
   "outputs": [],
   "source": [
    "plt.hist(range(1,27), weights=iord_101867516[1:]['total'], bins=len(snap_id_array),width=.85, alpha=.3, histtype='bar', label='Total', color='#666666',rwidth=1, align='mid')\n",
    "plt.hist([range(1,27),range(1,27)], weights=[iord_101867516[1:]['gas'],iord_101867516[1:]['star']],bins=len(snap_id_array),width=.85, alpha=1, histtype='bar', stacked=True, label=['Gas','Stars'],fill=True, color=['#44AA99','#88CCEE'],rwidth=1,align='mid')\n",
    "#plt.hist(range(1,28), weights=vars()['iord_%s'%(x)]['star'], bins=len(snap_id_array),width=.9, alpha=1, histtype='barstacked', label='Stars',fill=True, color='gold',rwidth=0.5)\n",
    "plt.title('Masses of Halo Containing iord 101867516');\n",
    "plt.xlabel('Snap_id', fontsize='large');\n",
    "plt.ylabel('Mass [M$_\\odot$]', fontsize='large');\n",
    "plt.xlim(-.5,27.5)\n",
    "#plt.ylim(0,vars()['iord_%s'%(x)]['gas'].max()+10000000000)\n",
    "plt.xticks([0.5,6.5,13.5,20.5,26.5],labels);\n",
    "plt.legend()\n",
    "#plt.yscale('log')\n",
    "plt.savefig('plots/galaxy_masses/iord_101867516_masses.png')"
   ]
  },
  {
   "cell_type": "code",
   "execution_count": null,
   "metadata": {},
   "outputs": [],
   "source": [
    "iord_101867516.dropna()['total']"
   ]
  },
  {
   "cell_type": "code",
   "execution_count": null,
   "metadata": {
    "collapsed": true
   },
   "outputs": [],
   "source": []
  }
 ],
 "metadata": {
  "kernelspec": {
   "display_name": "Python 2",
   "language": "python",
   "name": "python2"
  },
  "language_info": {
   "codemirror_mode": {
    "name": "ipython",
    "version": 2
   },
   "file_extension": ".py",
   "mimetype": "text/x-python",
   "name": "python",
   "nbconvert_exporter": "python",
   "pygments_lexer": "ipython2",
   "version": "2.7.13"
  }
 },
 "nbformat": 4,
 "nbformat_minor": 2
}
