{
 "cells": [
  {
   "cell_type": "code",
   "execution_count": 1,
   "metadata": {
    "collapsed": true
   },
   "outputs": [],
   "source": [
    "import pynbody\n",
    "import matplotlib.pylab as plt\n",
    "import numpy as np\n",
    "import pandas as pd\n",
    "%matplotlib inline\n",
    "pd.set_option('display.max_columns', None)\n",
    "pd.set_option('display.max_rows', None)"
   ]
  },
  {
   "cell_type": "code",
   "execution_count": 2,
   "metadata": {
    "collapsed": true
   },
   "outputs": [],
   "source": [
    "#galaxy_masses=pd.DataFrame()\n",
    "#BH_halos=pd.DataFrame()\n",
    "snap_id=0"
   ]
  },
  {
   "cell_type": "code",
   "execution_count": 55,
   "metadata": {
    "collapsed": true
   },
   "outputs": [],
   "source": [
    "def loader(path):\n",
    "    '''returns snapshot and halo'''\n",
    "    snap=pynbody.load(path)\n",
    "    snap.physical_units()\n",
    "    h=snap.halos()\n",
    "    return snap,h\n",
    "\n",
    "def BH_finder(snap):\n",
    "    '''returns subsnap of black holes'''\n",
    "    return snap.star[pynbody.filt.BandPass('tform','-15 Gyr','0 Gyr')]\n",
    "\n",
    "def analysis(halo, view):\n",
    "    '''center snap on halo's center of mass (angmom gives errors if there aren't enough pixels). \n",
    "    view=1 for face on, 2 for side on, anything else will leave it as is'''\n",
    "    if view==1:\n",
    "        pynbody.analysis.angmom.faceon(halo)\n",
    "    elif view==2:\n",
    "        pynbody.analysis.angmom.sideon(halo)\n",
    "    else:\n",
    "        pynbody.analysis.halo.center(halo)\n",
    "        \n",
    "def plot_BH_pos(h, BH, grpid, attribute, snap_id, cmap='Greys', w=100, save=False, view=0):\n",
    "    '''plots position of black holes. Send halo array(h), black hole array(BH), grpid, attribute, and snap_id you want to plot \n",
    "    Optional: width/preferred scope(w) (default=100), colormap(default='Greys'), save(default=False)'''\n",
    "    \n",
    "    pynbody.plot.image(h[grpid].s,qty=attribute,cmap=cmap, width=w, log=False)\n",
    "    plt.plot(np.array((BH[np.where(BH['amiga.grp']==grpid)]['pos'])).T[0],np.array((BH[np.where(BH['amiga.grp']==grpid)]['pos'])).T[1],'r+')\n",
    "    plt.xlim(-w/2,w/2)\n",
    "    plt.ylim(-w/2,w/2)\n",
    "    plt.title('%s_h%s_%s_w%s'%(snap_id, grpid, attribute, w))\n",
    "    if save==True:\n",
    "        plt.savefig('plots/%s/h%s/h148_h%s_%s_w%s.png'%(snap_id, grpid, grpid, attribute, w))\n",
    "    plt.show()\n",
    "\n",
    "def adjust_csv_index(df):\n",
    "    df=df.rename(columns={'Unnamed: 0':'snap'})\n",
    "    df=df.set_index('snap')\n",
    "    \n",
    "def add_mass_columns(hgrpid, grpid, snap_id):\n",
    "    '''returns row with gas, stellar, and total masses for one halo tracked through time'''\n",
    "    df=pd.DataFrame([[hgrpid.g['mass'].sum(), hgrpid.s['mass'].sum(), hgrpid['mass'].sum()]], index=[snap_id], columns=['H[%d] Gas'%(grpid),'H[%d] Star'%(grpid),'H[%d] Total'%(grpid)])\n",
    "    df.units='Msol'\n",
    "    return df\n",
    "    \n",
    "def mass_df(h, BHgrp, snap_id):\n",
    "    df=pd.DataFrame()\n",
    "    for i in BHgrp:\n",
    "        df=pd.concat([df, add_mass_columns(h[i], i, snap_id)], axis=1, join='outer')\n",
    "    df.units='Msol'\n",
    "    return df\n",
    "    \n",
    "def galaxy_df(snap_id,h,BHgrp):\n",
    "    '''snap_id_array[snap_id], h, np.unique(BH['amiga.grp'])'''\n",
    "    galaxy_masses=pd.DataFrame()\n",
    "    for i in snap_id:\n",
    "        vars()['mass_%s'%(i)]=mass_df(h,BHgrp,i)\n",
    "        galaxy_masses=galaxy_masses.append(vars()['mass_%s'%(i)])\n",
    "    return galaxy_masses\n",
    "    if save==True:\n",
    "        galaxy_masses.to_csv('csvdata/%s_galaxy_masses.csv'%(snap_id))        \n",
    "    \n",
    "def plot_SFH(h, grpid, snap_id, c='k', save=True, mf=False):\n",
    "    '''plots SFH. Send halo array(h[grpid]), color(c=k) grpid, and snapshot you want to plot \n",
    "    Optional:save(default=True)\n",
    "    #examples of iterative SFH:\n",
    "    for i in np.unique(BH['amiga.grp']): #using black hole array\n",
    "        plot_SFH(h,i,snap_id_array[snap_id], mf=False)\n",
    "    for i in np.unique(iords[str(snap_id_array[snap_id])+' halo groups'].dropna()): #using iords array\n",
    "        plot_SFH(h,i,snap_id_array[snap_id], mf=False)'''\n",
    "    plt.clf()\n",
    "    pynbody.plot.sfh(h[grpid].s,color=c, massform=mf);\n",
    "    plt.title('%s_h[%s]_SFH'%(snap_id,grpid), y=1.14);\n",
    "    if save==True:\n",
    "        plt.savefig('plots/SFH/%s_h[%s]_SFH.png'%(snap_id, grpid),bbox_inches='tight');\n",
    "\n",
    "def BH_halo_add(snap_id, BH, BH_halos):\n",
    "    '''snap_id_array[snap_id], BH, BH_halos'''\n",
    "    df=pd.DataFrame({'%s halo groups'%(snap_id):BH['amiga.grp'],'%s iords'%(snap_id):BH['iord']})\n",
    "    BH_halos=pd.concat([BH_halos, df], axis=1, join='outer')\n",
    "    return BH_halos\n",
    "\n",
    "def load_snap_csvs(snap_id):\n",
    "    '''snap_id_array[snap_id]. load mass and iord csvs'''\n",
    "    #masses=pd.DataFrame()\n",
    "    masses=pd.read_csv('csvdata/galaxy_masses.csv',index_col='snap')\n",
    "    iords=pd.DataFrame()\n",
    "    iords=pd.read_csv('csvdata/iords.csv',index_col='snap')\n",
    "    return masses,iords\n",
    "    \n",
    "def get_iords_df(iords, iords_list, masses, save=False):\n",
    "    for i in iords_list:\n",
    "        ind=0\n",
    "        vars()['iord_%s'%(i)]=pd.DataFrame(columns=['gas', 'star', 'total'])\n",
    "        iords_temp=iords[i].dropna()\n",
    "        vars()['iord_%s'%(i)]['halo']=iords[i]\n",
    "        for j in iords_temp.index:\n",
    "            if pd.notnull(iords.at[j,i]):\n",
    "                temp=[masses.at[j,'H[%s] Gas'%(int(iords.at[j,i]))],masses.at[j,'H[%s] Star'%(int(iords.at[j,i]))],masses.at[j,'H[%s] Total'%(int(iords.at[j,i]))]]\n",
    "            if (pd.notnull(temp)).any():\n",
    "                vars()['iord_%s'%(i)].loc[int(iords_temp.index[ind]),['gas','star','total']]=temp\n",
    "            else: continue\n",
    "            ind=ind+1\n",
    "            vars()['iord_%s'%(i)]=vars()['iord_%s'%(i)].fillna(0)\n",
    "            if save==True:\n",
    "                vars()['iord_%s'%(i)].to_csv('csvdata/iord_%s.csv'%(i))\n",
    "                \n",
    "def iord_mass_plot(iord_df, iord_id, save=False):\n",
    "    plt.hist(range(0,len(iord_df)), weights=iord_df['total'], bins=len(iord_df),width=.85, alpha=.3, histtype='bar', label='Total', color='#666666',rwidth=1, align='mid')\n",
    "    plt.hist([range(0,len(iord_df)),range(0,len(iord_df))], weights=[iord_df['gas'],iord_df['star']],bins=len(iord_df),width=.85, alpha=1, histtype='bar', stacked=True, label=['Gas','Stars'],fill=True, color=['#44AA99','#88CCEE'],rwidth=1,align='mid')\n",
    "    plt.title('Masses of Halo Containing iord %s'%(iord_id));\n",
    "    plt.ylabel('Mass [M$_\\odot$]', fontsize='large');\n",
    "    plt.legend(loc='best')\n",
    "    plt.yscale('log')\n",
    "    if save==True:\n",
    "        plt.savefig('plots/galaxy_masses/iord_%s_masses.png'%(iord_id),bbox_inches='tight')\n",
    "\n",
    "def iord_gmass_plot(iord_df, time, bins=150, lc='best', htype= 'bar', halo_label=False, save=False):\n",
    "    '''send individual iord dataframe, iord_id, timearray(time['time[Gyr]'])'''\n",
    "    plt.clf()\n",
    "    iord_id=iord_df.name\n",
    "    \n",
    "    #plt.hist(time['time[Gyr]'], weights=iord_df['total'], bins=bins, histtype=htype, label='Total', color='k', fill=True, linewidth=.2, alpha=.7);\n",
    "    #plt.hist([time['time[Gyr]'], time['time[Gyr]']], weights=[iord_df['star'], iord_df['gas']], bins=bins, histtype=htype, label=['Stars', 'Gas'], color=['#FFEE33','#1B7837'],  stacked=True, fill=True);\n",
    "    #plt.hist(time['time[Gyr]'], weights=iord_df['BH'], bins=bins, histtype=htype, label='BH', color='#662506', fill=False, linestyle='--');\n",
    "    #plt.hist(time['time[Gyr]'], weights=iord_df['total'], bins=bins, histtype=htype, label='Total', color='k', fill=False, linestyle='--');\n",
    "    plt.plot(time['time[Gyr]'], iord_df['total'], color='k', label='Total', linewidth=1.5)\n",
    "    plt.plot(time['time[Gyr]'], iord_df['gas'], color='#1B7837', linestyle='--', label='Gas', linewidth=.8)\n",
    "    plt.plot(time['time[Gyr]'], iord_df['star'], color='#FFEE33', linestyle='--', label='Stars', linewidth=.8)\n",
    "    plt.plot(time['time[Gyr]'], iord_df['BH'], color='#662506', linestyle='--', label='BH', linewidth=.8)\n",
    "    plt.title('Masses of Halo Containing iord %s'%(iord_id), y=1.14);\n",
    "    plt.ylabel('Mass [M$_\\odot$]', fontsize='large');\n",
    "    plt.xlabel('Time [Gyr]', fontsize='large');\n",
    "    plt.xlim(-.25,14)\n",
    "    plt.legend(loc=lc)\n",
    "    plt.yscale('log')\n",
    "\n",
    "    x0, x1 = plt.gca().get_xlim()\n",
    "    old_axis = plt.gca()\n",
    "    pz = plt.twiny()\n",
    "    labelz=time_axis['z'][-6:]\n",
    "    times=time_axis['time[Gyr]'][-6:]\n",
    "    pz.set_xticks(times)\n",
    "    pz.set_xticklabels([str(x) for x in labelz])\n",
    "    pz.set_xlim(x0,x1)\n",
    "    pz.set_xlabel('$z$')\n",
    "    plt.sca(old_axis)\n",
    "\n",
    "    if halo_label==True:\n",
    "        prev=0\n",
    "        for t in times:\n",
    "            #if iord_df['halo'].str.contains('[').any():\n",
    "                #iord_df['halo'] = iord_df['halo'].map(lambda x: str(x).lstrip('[').rstrip(']'))\n",
    "            halo=iord_df[iord_df['age']==a]['halo'].item()\n",
    "            if halo!=prev and halo!=0:\n",
    "                plt.text(a, iord_df[iord_df['age']==a]['total'].values*1.1,str('%s'%(int(halo))), color='#666666')\n",
    "                prev=halo\n",
    "            else:continue\n",
    "\n",
    "    plt.tight_layout()\n",
    "    plt.subplots_adjust(top=1)\n",
    "    if save==True:\n",
    "        plt.savefig('plots/galaxy_masses/iord_%s_masses.png'%(iord_id),bbox_inches='tight', dpi=200)\n",
    "        \n",
    "def iord_bhacc_plot(iord_df, time, bins=300, save=False):\n",
    "    '''send individual iord dataframe, time array'''\n",
    "    plt.clf()\n",
    "    iord_id=iord_df.loc[0,'iord']\n",
    "    \n",
    "    plt.hist(iord_df['time'], weights=iord_df['accRate'], bins=bins, histtype='step', color='k', linewidth=.9);\n",
    "    plt.title('BH %s Accretion Rates'%(iord_id), y=1.14);\n",
    "    plt.ylabel('Accretion Rate [M$_\\odot$ yr$^{-1}$]]', fontsize='large');\n",
    "    plt.xlabel('Time [Gyr]', fontsize='large');\n",
    "    plt.xlim(-.25,14)\n",
    "    plt.yscale('log')\n",
    "\n",
    "    x0, x1 = plt.gca().get_xlim()\n",
    "    old_axis = plt.gca()\n",
    "    pz = plt.twiny()\n",
    "    labelz=time_axis['z'][-6:]\n",
    "    times=time_axis['time[Gyr]'][-6:]\n",
    "    pz.set_xticks(times)\n",
    "    pz.set_xticklabels([str(x) for x in labelz])\n",
    "    pz.set_xlim(x0,x1)\n",
    "    pz.set_xlabel('$z$')\n",
    "    plt.sca(old_axis)\n",
    "\n",
    "    plt.tight_layout()\n",
    "    plt.subplots_adjust(top=1)\n",
    "    if save==True:\n",
    "        plt.savefig('plots/accretion_rates/iord_%s_accRates.png'%(iord_id),bbox_inches='tight', dpi=200)\n",
    "\n",
    "def iord_bhmass_plot(iord_df, time, bins=300, save=False):\n",
    "    '''send individual iord dataframe, time array'''\n",
    "    plt.clf()\n",
    "    iord_id=iord_df.loc[0,'iord']\n",
    "    \n",
    "    plt.hist(iord_df['time'], weights=iord_df['mass'], bins=bins, histtype='step', color='k', linewidth=.9);\n",
    "    plt.title('BH %s Mass'%(iord_id), y=1.14);\n",
    "    plt.ylabel('Mass [M$_\\odot$]', fontsize='large');\n",
    "    plt.xlabel('Time [Gyr]', fontsize='large');\n",
    "    plt.xlim(-.25,14)\n",
    "    #plt.yscale('log')\n",
    "\n",
    "    x0, x1 = plt.gca().get_xlim()\n",
    "    old_axis = plt.gca()\n",
    "    pz = plt.twiny()\n",
    "    labelz=time_axis['z'][-6:]\n",
    "    times=time_axis['time[Gyr]'][-6:]\n",
    "    pz.set_xticks(times)\n",
    "    pz.set_xticklabels([str(x) for x in labelz])\n",
    "    pz.set_xlim(x0,x1)\n",
    "    pz.set_xlabel('$z$')\n",
    "    plt.sca(old_axis)\n",
    "\n",
    "    plt.tight_layout()\n",
    "    plt.subplots_adjust(top=1)\n",
    "    if save==True:\n",
    "        plt.savefig('plots/mass/iord_%s_mass.png'%(iord_id),bbox_inches='tight', dpi=200)\n",
    "        \n",
    "def iord_bhr_plot(iord_df, time, bins=300, save=False):\n",
    "    '''send individual iord dataframe, time array'''\n",
    "    plt.clf()\n",
    "    iord_id=iord_df.loc[0,'iord']\n",
    "    \n",
    "    plt.hist(iord_df['time'], weights=iord_df['r'], bins=bins, histtype='step', color='k', linewidth=.9);\n",
    "    plt.title('BH %s Radial Distance'%(iord_id), y=1.14);\n",
    "    plt.ylabel('R [kpc]', fontsize='large');\n",
    "    plt.xlabel('Time [Gyr]', fontsize='large');\n",
    "    plt.xlim(-.25,14)\n",
    "    #plt.yscale('log')\n",
    "\n",
    "    x0, x1 = plt.gca().get_xlim()\n",
    "    old_axis = plt.gca()\n",
    "    pz = plt.twiny()\n",
    "    labelz=time_axis['z'][-6:]\n",
    "    times=time_axis['time[Gyr]'][-6:]\n",
    "    pz.set_xticks(times)\n",
    "    pz.set_xticklabels([str(x) for x in labelz])\n",
    "    pz.set_xlim(x0,x1)\n",
    "    pz.set_xlabel('$z$')\n",
    "    plt.sca(old_axis)\n",
    "\n",
    "    plt.tight_layout()\n",
    "    plt.subplots_adjust(top=1)\n",
    "    if save==True:\n",
    "        plt.savefig('plots/distance/iord_%s_distance.png'%(iord_id),bbox_inches='tight', dpi=200)\n",
    "        \n",
    "def cycle_snap_id_array(snap_id_array,iords_list):\n",
    "    '''loads each snap in snap_id_array and stores values to existing dataframes and saves as csvs(not as variable, so reload csv). Send snap_id_array, time dataframe, iords_list.\n",
    "    Currently set to retrieve time[Gyr], z, BH[r], BH[mass]\n",
    "    WARNING: This is going to be like a half hour wait or so\n",
    "    Note: can send partial arrays'''\n",
    "    time=pd.DataFrame(index=snap_id_array, columns=['time[Gyr]', 'z'])\n",
    "    for j in snap_id_array:\n",
    "        path='/data/scratch/jillian/h148/h148.cosmo50PLK.3072g3HbwK1BH.00%s/h148.cosmo50PLK.3072g3HbwK1BH.00%s'%(j,j)\n",
    "        snap,h=loader(path)\n",
    "        time.loc[j]['time[Gyr]']=snap.properties['time'].in_units('Gyr')\n",
    "        time.loc[j]['z']=snap.properties['z']\n",
    "        time.to_csv('csvdata/time.csv')\n",
    "        BH=BH_finder(snap)\n",
    "        for i in iords_list:\n",
    "            temp=BH[np.where(BH['iord']==int(i))]['mass']\n",
    "            if len(temp)>0:\n",
    "                vars()['iord_%s'%(i)].loc[int(j),'BH']=temp\n",
    "                vars()['iord_%s'%(i)].loc[int(j),'r[kpc]']=BH[np.where(BH['iord']==int(i))]['r']\n",
    "            vars()['iord_%s'%(i)].to_csv('csvdata/iord_%s.csv'%(i), index=False)\n",
    "\n",
    "def get_orbits(iords_list, save=False):\n",
    "    '''read .orbit file and convert to dataframe. long run time!'''\n",
    "    cols=['iord', 'time', 'stepNumber', 'mass','xPos', 'yPos', 'zPos','xVel','yVel','zVel','pot','accRate','delM','FB_E_released','dt','scalefactor']\n",
    "    orbit_file=pd.read_csv('/data/scratch/jillian/h148/h148.cosmo50PLK.3072g3HbwK1BH.orbit', header=None, sep=' ', index_col=False,names=cols)\n",
    "    iords_list=map(int, iords_list)\n",
    "    mask=np.isin(np.array(orbit_file['iord']), np.array(iords_list))\n",
    "    bhorbit=orbit_file[mask]\n",
    "    if save==True:\n",
    "        bhorbit.to_csv('csvdata/bhorbit.csv', index=False)\n",
    "\n",
    "def get_iorbits(iord_id, bhorbit, save=False):\n",
    "    '''return orbit dataframe for specified iord. long run time!'''\n",
    "    iord_id=int(iord_id)\n",
    "    mask=np.isin(np.array(bhorbit['iord']), iord_id)\n",
    "    i_orbit=bhorbit[mask]\n",
    "    #mask2=np.isin(temp['stepNumber'], map(int, snap_id_array))\n",
    "    i_orbit.loc[:,'accRate']=(i_orbit['accRate']*1.84793e16)/38759428183.8\n",
    "    i_orbit.loc[:,'time']=(i_orbit['time']*38759428183.8)/10**9\n",
    "    i_orbit.loc[:,'mass']=i_orbit['mass']*1.84793e16\n",
    "    i_orbit.loc[:,'mass']=i_orbit['mass']*1.84793e16\n",
    "    if save==True:\n",
    "        i_orbit.to_csv('csvdata/i%s_orbit.csv'%(iord_id), index=False)\n",
    "    return i_orbit\n",
    "\n",
    "def getr(i_orbit):\n",
    "    #vars()['i%s_orbit'%(i)]=vars()['i%s_orbit'%(i)].drop('Unnamed: 0.1', axis=1)\n",
    "    combined=np.vstack((i_orbit['xPos'], i_orbit['yPos'], i_orbit['zPos'])).T\n",
    "    r=np.sqrt((combined ** 2).sum(axis=1))\n",
    "    i_orbit['r']=pd.Series(r)\n",
    "    return i_orbit"
   ]
  },
  {
   "cell_type": "code",
   "execution_count": 4,
   "metadata": {
    "collapsed": true
   },
   "outputs": [],
   "source": [
    "#array of last four digits for each snap\n",
    "snap_id_array=['0139','0225','0275','0640','0974','1024','1269','1280','1408','1740','2048','2088','2432','2688','2816','2944','3072','3195','3200','3328','3456','3584','3606','3712','3840','3968','4096']"
   ]
  },
  {
   "cell_type": "code",
   "execution_count": 5,
   "metadata": {
    "collapsed": false
   },
   "outputs": [
    {
     "data": {
      "text/plain": [
       "'4096'"
      ]
     },
     "execution_count": 5,
     "metadata": {},
     "output_type": "execute_result"
    }
   ],
   "source": [
    "#snap id index (negative values start from end)\n",
    "snap_id=snap_id-1\n",
    "snap_id_array[snap_id]"
   ]
  },
  {
   "cell_type": "code",
   "execution_count": 22,
   "metadata": {
    "collapsed": true
   },
   "outputs": [],
   "source": [
    "masses,iords=load_snap_csvs(snap_id_array[snap_id])\n",
    "iords_list=iords.columns.tolist()\n",
    "time=pd.read_csv('csvdata/time.csv', index_col=0)\n",
    "global time_axis\n",
    "time_axis=pd.read_csv('csvdata/time_axis.csv', index_col=0)\n",
    "for i in iords_list:\n",
    "    vars()['i_%s_data'%(i)]=pd.read_csv('csvdata/iord_%s.csv'%(i),index_col='snap')\n",
    "    vars()['i%s_orbit'%(i)]=pd.read_csv('csvdata/i%s_orbit.csv'%(i), index_col=0)"
   ]
  },
  {
   "cell_type": "code",
   "execution_count": null,
   "metadata": {
    "collapsed": true
   },
   "outputs": [],
   "source": [
    "#set path\n",
    "path='/data/scratch/jillian/h148/h148.cosmo50PLK.3072g3HbwK1BH.00%s/h148.cosmo50PLK.3072g3HbwK1BH.00%s'%(snap_id_array[snap_id],snap_id_array[snap_id])\n",
    "#test for working at home:\n",
    "#path='/Users/Owner/Black_Hole_Research/old/pynbody_tutorial/testdata/g15784.lr.01024.gz'\n",
    "#returns snapshot and halos in physical units (takes a couple of minutes)\n",
    "snap,h=loader(path)"
   ]
  },
  {
   "cell_type": "code",
   "execution_count": null,
   "metadata": {
    "collapsed": true
   },
   "outputs": [],
   "source": [
    "BH=BH_finder(snap)"
   ]
  },
  {
   "cell_type": "code",
   "execution_count": 57,
   "metadata": {
    "collapsed": true
   },
   "outputs": [],
   "source": [
    "n=0"
   ]
  },
  {
   "cell_type": "code",
   "execution_count": 58,
   "metadata": {
    "collapsed": false
   },
   "outputs": [
    {
     "data": {
      "image/png": "[encoded data removed]",
      "text/plain": [
       "<matplotlib.figure.Figure at 0x7fd29f9e6e10>"
      ]
     },
     "metadata": {},
     "output_type": "display_data"
    }
   ],
   "source": [
    "x=iords_list[n]\n",
    "vars()['i_%s_data'%(x)].name=x\n",
    "iord_gmass_plot(vars()['i_%s_data'%(x)],time, lc=7, save=True)"
   ]
  },
  {
   "cell_type": "code",
   "execution_count": 59,
   "metadata": {
    "collapsed": false
   },
   "outputs": [
    {
     "data": {
      "image/png": "[encoded data removed]",
      "text/plain": [
       "<matplotlib.figure.Figure at 0x7fd306ea0990>"
      ]
     },
     "metadata": {},
     "output_type": "display_data"
    }
   ],
   "source": [
    "iord_bhacc_plot(vars()['i%s_orbit'%(x)], time, bins=200,save=True)"
   ]
  },
  {
   "cell_type": "code",
   "execution_count": 60,
   "metadata": {
    "collapsed": false
   },
   "outputs": [
    {
     "data": {
      "image/png": "[encoded data removed]",
      "text/plain": [
       "<matplotlib.figure.Figure at 0x7fd306abbe50>"
      ]
     },
     "metadata": {},
     "output_type": "display_data"
    }
   ],
   "source": [
    "iord_bhmass_plot(vars()['i%s_orbit'%(x)], time, bins=200,save=True)"
   ]
  },
  {
   "cell_type": "code",
   "execution_count": 61,
   "metadata": {
    "collapsed": false
   },
   "outputs": [
    {
     "data": {
      "image/png": "[encoded data removed]",
      "text/plain": [
       "<matplotlib.figure.Figure at 0x7fd306838e50>"
      ]
     },
     "metadata": {},
     "output_type": "display_data"
    }
   ],
   "source": [
    "iord_bhr_plot(vars()['i%s_orbit'%(x)], time, bins=200,save=True)\n",
    "n+=1"
   ]
  },
  {
   "cell_type": "code",
   "execution_count": 62,
   "metadata": {
    "collapsed": false
   },
   "outputs": [
    {
     "data": {
      "image/png": "[encoded data removed]",
      "text/plain": [
       "<matplotlib.figure.Figure at 0x7fd306b19590>"
      ]
     },
     "metadata": {},
     "output_type": "display_data"
    }
   ],
   "source": [
    "for i in iords_list:\n",
    "    vars()['i_%s_data'%(i)].name=i\n",
    "    iord_gmass_plot(vars()['i_%s_data'%(i)],time, lc=7, save=True)\n",
    "    iord_bhacc_plot(vars()['i%s_orbit'%(i)], time, bins=200,save=True)\n",
    "    iord_bhmass_plot(vars()['i%s_orbit'%(i)], time, bins=200,save=True)\n",
    "    iord_bhr_plot(vars()['i%s_orbit'%(i)], time, bins=200,save=True)"
   ]
  },
  {
   "cell_type": "code",
   "execution_count": null,
   "metadata": {
    "collapsed": true
   },
   "outputs": [],
   "source": []
  }
 ],
 "metadata": {
  "kernelspec": {
   "display_name": "Python 2",
   "language": "python",
   "name": "python2"
  },
  "language_info": {
   "codemirror_mode": {
    "name": "ipython",
    "version": 2
   },
   "file_extension": ".py",
   "mimetype": "text/x-python",
   "name": "python",
   "nbconvert_exporter": "python",
   "pygments_lexer": "ipython2",
   "version": "2.7.13"
  }
 },
 "nbformat": 4,
 "nbformat_minor": 2
}
