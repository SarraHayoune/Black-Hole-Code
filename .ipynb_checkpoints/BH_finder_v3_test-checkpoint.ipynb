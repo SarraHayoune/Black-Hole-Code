{
 "cells": [
  {
   "cell_type": "code",
   "execution_count": 2,
   "metadata": {
    "collapsed": false
   },
   "outputs": [
    {
     "name": "stderr",
     "output_type": "stream",
     "text": [
      "/Users/Owner/anaconda/envs/python2/lib/python2.7/site-packages/matplotlib/font_manager.py:273: UserWarning: Matplotlib is building the font cache using fc-list. This may take a moment.\n",
      "  warnings.warn('Matplotlib is building the font cache using fc-list. This may take a moment.')\n"
     ]
    }
   ],
   "source": [
    "import pynbody\n",
    "import matplotlib.pylab as plt\n",
    "import numpy as np\n",
    "import pandas as pd\n",
    "%matplotlib inline"
   ]
  },
  {
   "cell_type": "code",
   "execution_count": 18,
   "metadata": {
    "collapsed": false
   },
   "outputs": [],
   "source": [
    "def loader(path):\n",
    "    '''returns snapshot and halo'''\n",
    "    snap=pynbody.load(path)\n",
    "    snap.physical_units()\n",
    "    h=snap.halos()\n",
    "    return snap,h\n",
    "\n",
    "def BH_finder(snap):\n",
    "    '''returns subsnap of black holes'''\n",
    "    return snap.star[pynbody.filt.BandPass('tform','-15 Gyr','0 Gyr')]\n",
    "\n",
    "def analysis(halo, view):\n",
    "    '''center snap on halo's center of mass (angmom gives errors if there aren't enough pixels)'''\n",
    "    if view==1:\n",
    "        pynbody.analysis.angmom.faceon(halo)\n",
    "    elif view==2:\n",
    "        pynbody.analysis.angmom.sideon(halo)\n",
    "    else:\n",
    "        pynbody.analysis.halo.center(halo)\n",
    "        \n",
    "def plot_BH_pos(h, BH, grpid, attribute, snapshot, cmap='Greys', w=100, save=False, view=0):\n",
    "    '''plots position of black holes. Send halo array(h), black hole array(BH), grpid, attribute, and snapshot you want to plot \n",
    "    Optional: width/preferred scope(w) (default=100), colormap(default='Greys'), save(default=False)'''\n",
    "    \n",
    "    pynbody.plot.image(h[grpid].s,qty=attribute,cmap=cmap, width=w, log=False)\n",
    "    plt.plot(np.array((BH[np.where(BH['amiga.grp']==grpid)]['pos'])).T[0],np.array((BH[np.where(BH['amiga.grp']==grpid)]['pos'])).T[1],'r+')\n",
    "    plt.xlim(-w/2,w/2)\n",
    "    plt.ylim(-w/2,w/2)\n",
    "    plt.title('%s_h%s_%s_w%s'%(snapshot, grpid, attribute, w))\n",
    "    \n",
    "    if save==True:\n",
    "        plt.savefig('plots/%s/h%s/h148_h%s_%s_w%s.png'%(snapshot, grpid, grpid, attribute, w))\n",
    "    plt.show()\n",
    "    \n",
    "def add_mass_columns(hgrpid, grpid, snap_id):\n",
    "    '''returns row with gas, stellar, and total masses for one halo tracked through time'''\n",
    "    df=pd.DataFrame([[hgrpid.g['mass'].sum(), hgrpid.s['mass'].sum(), hgrpid['mass'].sum()]], index=[snap_id], columns=['H[%d] Gas'%(grpid),'H[%d] Star'%(grpid),'H[%d] Total'%(grpid)])\n",
    "    df.units='Msol'\n",
    "    return df\n",
    "\n",
    "def mass_df(h, BHgrp, snap_id):\n",
    "    df=pd.DataFrame()\n",
    "    for i in BHgrp:\n",
    "        df=pd.concat([df, add_mass_columns(h[i], i, snap_id)], axis=1, join='outer')\n",
    "    df.units='Msol'\n",
    "    return df\n",
    "\n",
    "def galaxy_masses(snap_id_array,h,BHgrp):\n",
    "    galaxy_masses=pd.DataFrame()\n",
    "    for i in snap_id_array:\n",
    "        vars()['mass_%s'%(i)]=mass_df(h,BHgrp,i)\n",
    "        galaxy_masses=galaxy_masses.append(vars()['mass_%s'%(i)])\n",
    "    cols=['H[1] Gas','H[1] Star','H[1] Total','H[3] Gas','H[3] Star','H[3] Total','H[5] Gas','H[5] Star','H[5] Total','H[6] Gas','H[6] Star','H[6] Total','H[11] Gas','H[11] Star','H[11] Total','H[12] Gas','H[12] Star','H[12] Total', 'H[649] Gas','H[649] Star','H[649] Total']\n",
    "    galaxy_masses=galaxy_masses.reindex(columns= cols)\n",
    "    galaxy_masses.units='Msol'\n",
    "    return galaxy_masses\n",
    "\n",
    "\n",
    "def add_rform_columns(hgrpid, grpid, snap_id):\n",
    "    '''returns star formation rate '''\n",
    "    rform=hgrpid.s['mass']\n",
    "    df=pd.DataFrame([[hgrpid.g['mass'].sum(), hgrpid.s['mass'].sum(), hgrpid['mass'].sum()]], index=[snap_id], columns=['H[%d] Gas'%(grpid),'H[%d] Star'%(grpid),'H[%d] Total'%(grpid)])\n",
    "    df.units='Msol'\n",
    "    return df"
   ]
  },
  {
   "cell_type": "code",
   "execution_count": 19,
   "metadata": {
    "collapsed": true
   },
   "outputs": [],
   "source": [
    "#array of last four digits for each snap\n",
    "snap_id_array=['0139','0225','0275','0640','0974','1024','1269','1280','1408','1740','2048','2088','2432','2688','2816','2944','3072','3195','3200','3328','3456','3584','3606','3712','3840','3968','4096']"
   ]
  },
  {
   "cell_type": "code",
   "execution_count": 20,
   "metadata": {
    "collapsed": true
   },
   "outputs": [],
   "source": [
    "#halo id for halo of interest, snap id index (negative values start from end)\n",
    "grpid=1\n",
    "snap_id=-1"
   ]
  },
  {
   "cell_type": "code",
   "execution_count": 21,
   "metadata": {
    "collapsed": false
   },
   "outputs": [],
   "source": [
    "#set path\n",
    "path='/data/scratch/jillian/h148/h148.cosmo50PLK.3072g3HbwK1BH.00%s/h148.cosmo50PLK.3072g3HbwK1BH.00%s'%(snap_id_array[snap_id],snap_id_array[snap_id])\n",
    "path_test='/Users/Owner/Black_Hole_Research/old/pynbody_tutorial/testdata/g15784.lr.0%s.gz'%(1024)"
   ]
  },
  {
   "cell_type": "code",
   "execution_count": 22,
   "metadata": {
    "collapsed": false
   },
   "outputs": [],
   "source": [
    "#returns snapshot and halos in physical units (takes a couple of minutes)\n",
    "snap,h=loader(path_test)\n",
    "#snap,h=loader('/Users/Owner/Black_Hole_Research/snap_copies/h148.cosmo50PLK.3072g3HbwK1BH.000139/h148.cosmo50PLK.3072g3HbwK1BH.000139')"
   ]
  },
  {
   "cell_type": "code",
   "execution_count": 23,
   "metadata": {
    "collapsed": false
   },
   "outputs": [],
   "source": [
    "#returns subsnap of black holes\n",
    "#BH=BH_finder(snap)\n",
    "BH_test=snap.star[1,3,5,6,11,12,649]\n",
    "#sample contains no black holes: BHgrp_test is a place holder for\n",
    "#BHgrp=list(set(BH['amiga.grp']))TRACK iord???\n",
    "BHgrp_test=list(set([1,1,1,3,1,5,1,6,11,12,649]))"
   ]
  },
  {
   "cell_type": "code",
   "execution_count": 24,
   "metadata": {
    "collapsed": false
   },
   "outputs": [],
   "source": [
    "galaxy_masses=galaxy_masses(snap_id_array,h,BHgrp_test)"
   ]
  },
  {
   "cell_type": "code",
   "execution_count": 15,
   "metadata": {
    "collapsed": false
   },
   "outputs": [],
   "source": [
    "#galaxy_masses=pynbody.array.SimArray(galaxy_masses)"
   ]
  },
  {
   "cell_type": "code",
   "execution_count": 40,
   "metadata": {
    "collapsed": false
   },
   "outputs": [
    {
     "data": {
      "text/plain": [
       "SimArray(111254562509.40561, 'Msol')"
      ]
     },
     "execution_count": 40,
     "metadata": {},
     "output_type": "execute_result"
    }
   ],
   "source": []
  },
  {
   "cell_type": "code",
   "execution_count": null,
   "metadata": {
    "collapsed": false
   },
   "outputs": [],
   "source": [
    "#convert units\n",
    "h[grpid].s['tform'].convert_units('Msol/yr')"
   ]
  },
  {
   "cell_type": "code",
   "execution_count": null,
   "metadata": {
    "collapsed": false
   },
   "outputs": [],
   "source": [
    "pynbody.plot.generic.hist2d(xo, yo, weights=None, mass=None, gridsize=(100, 100), nbins=None, make_plot=True, **kwargs)[source]\n"
   ]
  },
  {
   "cell_type": "code",
   "execution_count": 48,
   "metadata": {
    "collapsed": false
   },
   "outputs": [
    {
     "data": {
      "image/png": "[encoded data removed]",
      "text/plain": [
       "<matplotlib.figure.Figure at 0x11d289b10>"
      ]
     },
     "metadata": {},
     "output_type": "display_data"
    }
   ],
   "source": [
    "pynbody.plot.sfh(snap.s,linestyle='dashed',color='k');"
   ]
  },
  {
   "cell_type": "code",
   "execution_count": 47,
   "metadata": {
    "collapsed": false
   },
   "outputs": [
    {
     "data": {
      "image/png": "[encoded data removed]",
      "text/plain": [
       "<matplotlib.figure.Figure at 0x11e2ff850>"
      ]
     },
     "metadata": {},
     "output_type": "display_data"
    }
   ],
   "source": [
    "pynbody.plot.sfh(h[1].s,linestyle='dashed',color='k');"
   ]
  },
  {
   "cell_type": "markdown",
   "metadata": {
    "collapsed": true
   },
   "source": [
    "#Use when plotting to center and adjust angle of perspective: view=1 for face on and 2 for side on, anything else will leave it as it is\n",
    "view=0\n",
    "analysis(h[grpid],view)"
   ]
  },
  {
   "cell_type": "markdown",
   "metadata": {
    "collapsed": true
   },
   "source": [
    "#plot location of black holes\n",
    "plot_BH_pos(h, BH_test, grpid, attribute='tform', snapshot=snap_id_array[snap_id])"
   ]
  },
  {
   "cell_type": "code",
   "execution_count": null,
   "metadata": {
    "collapsed": true
   },
   "outputs": [],
   "source": []
  }
 ],
 "metadata": {
  "kernelspec": {
   "display_name": "Python 2",
   "language": "python",
   "name": "python2"
  },
  "language_info": {
   "codemirror_mode": {
    "name": "ipython",
    "version": 2
   },
   "file_extension": ".py",
   "mimetype": "text/x-python",
   "name": "python",
   "nbconvert_exporter": "python",
   "pygments_lexer": "ipython2",
   "version": "2.7.13"
  }
 },
 "nbformat": 4,
 "nbformat_minor": 2
}
